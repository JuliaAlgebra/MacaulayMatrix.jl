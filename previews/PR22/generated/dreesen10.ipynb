{
 "cells": [
  {
   "cell_type": "markdown",
   "source": [
    "# Positive dimensional roots at infinity\n",
    "**Adapted from**: Example 6.14 p. 102 of [D13]\n",
    "\n",
    "[D13] Dreesen, Philippe.\n",
    "*Back to the Roots: Polynomial System Solving Using Linear Algebra*\n",
    "Ph.D. thesis (2013)"
   ],
   "metadata": {}
  },
  {
   "outputs": [],
   "cell_type": "code",
   "source": [
    "using LinearAlgebra\n",
    "using TypedPolynomials\n",
    "using MacaulayMatrix\n",
    "using JuMP\n",
    "using MultivariateMoments"
   ],
   "metadata": {},
   "execution_count": 1
  },
  {
   "cell_type": "markdown",
   "source": [
    "Consider the system given in [D13, Example 6.14] which corresponds to `Systems/dreesen10` of [macaulaylab](http://www.macaulaylab.net/):"
   ],
   "metadata": {}
  },
  {
   "outputs": [
    {
     "output_type": "execute_result",
     "data": {
      "text/plain": "4-element Vector{MultivariatePolynomials.VectorPolynomial{Float64, MultivariatePolynomials.Term{Float64, TypedPolynomials.Monomial{(x₁, x₂, x₃, x₄), 4}}}}:\n -1.0 + x₂ + x₁\n x₂x₄ + x₁x₃\n -0.6666666666666666 + x₂x₄² + x₁x₃²\n x₂x₄³ + x₁x₃³"
     },
     "metadata": {},
     "execution_count": 2
    }
   ],
   "cell_type": "code",
   "source": [
    "@polyvar x[1:4]\n",
    "system = [\n",
    "    x[1] + x[2] - 1,\n",
    "    x[1] * x[3] + x[2] * x[4],\n",
    "    x[1] * x[3]^2 + x[2] * x[4]^2 - 2/3,\n",
    "    x[1] * x[3]^3 + x[2] * x[4]^3,\n",
    "]"
   ],
   "metadata": {},
   "execution_count": 2
  },
  {
   "cell_type": "markdown",
   "source": [
    "With the classical MacaulayMatrix approach, the nullity increases by 2 at every degree\n",
    "because of the positive dimensional solution set at infinity."
   ],
   "metadata": {}
  },
  {
   "outputs": [
    {
     "name": "stdout",
     "output_type": "stream",
     "text": [
      "[ Info: Added 56 rows to complete columns up to degree 4\n",
      "[ Info: Nullspace of dimensions (65, 15) computed from Macaulay matrix of dimension (56, 65) in 0.192466176 seconds.\n",
      "[ Info: Added 69 rows to complete columns up to degree 5\n",
      "[ Info: Nullspace of dimensions (120, 17) computed from Macaulay matrix of dimension (125, 120) in 0.003325495 seconds.\n",
      "[ Info: Added 121 rows to complete columns up to degree 6\n",
      "[ Info: Nullspace of dimensions (203, 18) computed from Macaulay matrix of dimension (246, 203) in 0.042997294 seconds.\n",
      "[ Info: Found 2 real solutions\n"
     ]
    },
    {
     "output_type": "execute_result",
     "data": {
      "text/plain": "2-element Vector{Vector{Float64}}:\n [0.5000000000000007, 0.4999999999999999, -0.8164965809277256, 0.8164965809277251]\n [0.49999999999999956, 0.5, 0.816496580927726, -0.8164965809277249]"
     },
     "metadata": {},
     "execution_count": 3
    }
   ],
   "cell_type": "code",
   "source": [
    "solve_system(system, column_maxdegree = 8)"
   ],
   "metadata": {},
   "execution_count": 3
  },
  {
   "cell_type": "markdown",
   "source": [
    "---\n",
    "\n",
    "*This notebook was generated using [Literate.jl](https://github.com/fredrikekre/Literate.jl).*"
   ],
   "metadata": {}
  }
 ],
 "nbformat_minor": 3,
 "metadata": {
  "language_info": {
   "file_extension": ".jl",
   "mimetype": "application/julia",
   "name": "julia",
   "version": "1.10.4"
  },
  "kernelspec": {
   "name": "julia-1.10",
   "display_name": "Julia 1.10.4",
   "language": "julia"
  }
 },
 "nbformat": 4
}
