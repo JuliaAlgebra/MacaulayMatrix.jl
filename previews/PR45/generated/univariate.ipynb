{
 "cells": [
  {
   "cell_type": "markdown",
   "source": [
    "# Univariate"
   ],
   "metadata": {}
  },
  {
   "outputs": [],
   "cell_type": "code",
   "source": [
    "using LinearAlgebra\n",
    "using DynamicPolynomials\n",
    "using MultivariateMoments\n",
    "using JuMP\n",
    "using MacaulayMatrix"
   ],
   "metadata": {},
   "execution_count": 1
  },
  {
   "cell_type": "markdown",
   "source": [
    "Consider the following example:"
   ],
   "metadata": {}
  },
  {
   "outputs": [
    {
     "output_type": "execute_result",
     "data": {
      "text/plain": "24 - 12x + 24x² + 12x³",
      "text/latex": "$$ 24 - 12x + 24x^{2} + 12x^{3} $$"
     },
     "metadata": {},
     "execution_count": 2
    }
   ],
   "cell_type": "code",
   "source": [
    "@polyvar x\n",
    "p = 3x^4 + 8x^3 - 6x^2 + 24x + 1\n",
    "q = differentiate(p, x)"
   ],
   "metadata": {},
   "execution_count": 2
  },
  {
   "cell_type": "markdown",
   "source": [
    "Let's solve that system:"
   ],
   "metadata": {}
  },
  {
   "outputs": [
    {
     "name": "stdout",
     "output_type": "stream",
     "text": [
      "[ Info: Added 1 rows to complete columns up to degree 3\n",
      "[ Info: Nullspace of dimensions (4, 3) computed from Macaulay matrix of dimension (1, 4) in 5.5132e-5 seconds.\n",
      "[ Info: Found 1 real solution\n"
     ]
    }
   ],
   "cell_type": "code",
   "source": [
    "sols = solve_system([q], column_maxdegree = 4)\n",
    "nothing # hide"
   ],
   "metadata": {},
   "execution_count": 3
  },
  {
   "cell_type": "markdown",
   "source": [
    "The real roots are:"
   ],
   "metadata": {}
  },
  {
   "outputs": [
    {
     "output_type": "execute_result",
     "data": {
      "text/plain": "1-element Vector{Vector{Float64}}:\n [-2.658967081916994]"
     },
     "metadata": {},
     "execution_count": 4
    }
   ],
   "cell_type": "code",
   "source": [
    "sols"
   ],
   "metadata": {},
   "execution_count": 4
  },
  {
   "cell_type": "markdown",
   "source": [
    "With PSD Hankel matrix trick no complex root!"
   ],
   "metadata": {}
  },
  {
   "outputs": [
    {
     "name": "stdout",
     "output_type": "stream",
     "text": [
      "[ Info: Nullspace of dimensions (5, 3) computed from Macaulay matrix of dimension (2, 5) in 6.0353e-5 seconds.\n",
      "------------------------------------------------------------------\n",
      "\t       SCS v3.2.6 - Splitting Conic Solver\n",
      "\t(c) Brendan O'Donoghue, Stanford University, 2012\n",
      "------------------------------------------------------------------\n",
      "problem:  variables n: 3, constraints m: 7\n",
      "cones: \t  z: primal zero / dual free vars: 1\n",
      "\t  s: psd vars: 6, ssize: 1\n",
      "settings: eps_abs: 1.0e-04, eps_rel: 1.0e-04, eps_infeas: 1.0e-07\n",
      "\t  alpha: 1.50, scale: 1.00e-01, adaptive_scale: 1\n",
      "\t  max_iters: 100000, normalize: 1, rho_x: 1.00e-06\n",
      "\t  acceleration_lookback: 10, acceleration_interval: 10\n",
      "\t  compiled with openmp parallelization enabled\n",
      "lin-sys:  sparse-direct-amd-qdldl\n",
      "\t  nnz(A): 21, nnz(P): 0\n",
      "------------------------------------------------------------------\n",
      " iter | pri res | dua res |   gap   |   obj   |  scale  | time (s)\n",
      "------------------------------------------------------------------\n",
      "     0| 1.31e+00  2.08e-01  5.54e-01  2.77e-01  1.00e-01  8.37e-04 \n",
      "   250| 5.50e-01  1.41e-05  2.91e-04  1.45e-04  1.48e-03  1.56e-03 \n",
      "   500| 2.94e-01  4.20e-06  8.43e-04 -4.22e-04  3.21e-05  2.34e-03 \n",
      "   750| 9.99e-01  9.44e-10  1.28e-02 -6.38e-03  1.00e-06  3.02e-03 \n",
      "  1000| 9.99e-01  3.26e-10  4.36e-03 -2.18e-03  1.00e-06  3.65e-03 \n",
      "  1250| 9.99e-01  1.57e-10  2.09e-03 -1.05e-03  1.00e-06  4.28e-03 \n",
      "  1500| 9.99e-01  6.78e-11  9.05e-04 -4.53e-04  1.00e-06  4.91e-03 \n",
      "  1750| 9.50e-01  2.42e-07  2.28e-04 -1.14e-04  1.00e-06  5.57e-03 \n",
      "  2000| 9.99e-01  1.46e-06  1.13e-02 -5.65e-03  1.00e-06  6.30e-03 \n",
      "  2250| 9.99e-01  3.47e-10  4.64e-03 -2.32e-03  1.00e-06  6.93e-03 \n",
      "  2500| 9.99e-01  2.02e-10  2.70e-03 -1.35e-03  1.00e-06  7.56e-03 \n",
      "  2750| 9.99e-01  1.02e-10  1.36e-03 -6.82e-04  1.00e-06  8.20e-03 \n",
      "  3000| 9.99e-01  2.46e-11  3.28e-04 -1.64e-04  1.00e-06  8.83e-03 \n",
      "  3250| 9.52e-01  2.55e-07  8.35e-05 -4.18e-05  1.00e-06  9.51e-03 \n",
      "  3500| 9.99e-01  8.12e-08  7.19e-04 -3.59e-04  1.00e-06  1.02e-02 \n",
      "  3750| 9.99e-01  2.00e-07  1.00e-04 -5.00e-05  1.00e-06  1.09e-02 \n",
      "  4000| 8.19e-01  9.56e-08  8.02e-05 -4.01e-05  1.00e-06  1.16e-02 \n",
      "  4250| 6.58e-02  1.27e-09  6.59e-05 -3.29e-05  1.00e-06  1.24e-02 \n",
      "  4500| 6.80e-02  7.78e-09  6.13e-05 -3.07e-05  1.00e-06  1.31e-02 \n",
      "  4750| 6.74e-02  3.35e-09  5.80e-05 -2.90e-05  1.00e-06  1.38e-02 \n",
      "  5000| 3.99e-01  1.87e-07  7.30e-06 -3.65e-06  1.00e-06  1.45e-02 \n",
      "  5250| 5.99e-02  6.10e-09  5.03e-05 -2.52e-05  1.00e-06  1.52e-02 \n",
      "  5500| 6.17e-02  2.44e-09  4.73e-05 -2.37e-05  1.00e-06  1.59e-02 \n",
      "  5750| 5.79e-02  5.26e-09  4.47e-05 -2.24e-05  1.00e-06  1.66e-02 \n",
      "  6000| 5.37e-02  9.07e-10  4.15e-05 -2.08e-05  1.00e-06  1.73e-02 \n",
      "  6250| 5.48e-02  5.52e-09  3.85e-05 -1.93e-05  1.00e-06  1.80e-02 \n",
      "  6500| 5.43e-02  1.77e-09  3.65e-05 -1.82e-05  1.00e-06  1.87e-02 \n",
      "  6750| 4.98e-02  3.34e-09  3.42e-05 -1.71e-05  1.00e-06  1.94e-02 \n",
      "  7000| 4.81e-02  3.60e-09  3.16e-05 -1.58e-05  1.00e-06  2.02e-02 \n",
      "  7250| 4.92e-02  2.86e-09  2.96e-05 -1.48e-05  1.00e-06  2.09e-02 \n",
      "  7500| 4.70e-02  3.27e-09  2.80e-05 -1.40e-05  1.00e-06  2.16e-02 \n",
      "  7750| 1.68e-01  9.05e-08  3.27e-06 -1.64e-06  1.00e-06  2.23e-02 \n",
      "  8000| 4.32e-02  3.96e-09  2.41e-05 -1.20e-05  1.00e-06  2.30e-02 \n",
      "  8250| 4.35e-02  4.78e-10  2.27e-05 -1.13e-05  1.00e-06  2.37e-02 \n",
      "  8500| 4.07e-02  2.99e-09  2.14e-05 -1.07e-05  1.00e-06  2.44e-02 \n",
      "  8750| 3.83e-02  8.99e-10  1.98e-05 -9.89e-06  1.00e-06  2.51e-02 \n",
      "  9000| 6.02e-01  6.51e-07  3.71e-05  1.86e-05  1.00e-06  2.58e-02 \n",
      "  9250| 9.41e-03  1.09e-08  3.34e-07  1.67e-07  1.00e-06  2.66e-02 \n",
      "  9500| 9.62e-03  4.23e-10  1.21e-06 -6.07e-07  1.00e-06  2.74e-02 \n",
      "  9675| 3.95e-03  2.60e-10  1.92e-07 -9.58e-08  1.00e-06  2.79e-02 \n",
      "------------------------------------------------------------------\n",
      "status:  solved\n",
      "timings: total: 2.79e-02s = setup: 1.18e-04s + solve: 2.78e-02s\n",
      "\t lin-sys: 2.81e-03s, cones: 2.06e-02s, accel: 1.10e-03s\n",
      "------------------------------------------------------------------\n",
      "objective = -0.000000\n",
      "------------------------------------------------------------------\n",
      "[ Info: Terminated with OPTIMAL (solved) in 0.027929465 seconds.\n"
     ]
    },
    {
     "output_type": "execute_result",
     "data": {
      "text/plain": "1-element Vector{Vector{Float64}}:\n [-2.6593904239378494]"
     },
     "metadata": {},
     "execution_count": 5
    }
   ],
   "cell_type": "code",
   "source": [
    "import SCS\n",
    "solver = SCS.Optimizer\n",
    "psd_hankel([q], solver, 4)"
   ],
   "metadata": {},
   "execution_count": 5
  },
  {
   "cell_type": "markdown",
   "source": [
    "What happened there ?\n",
    "First, we computed the MacaulayMatrix matrix nullspace"
   ],
   "metadata": {}
  },
  {
   "outputs": [
    {
     "name": "stdout",
     "output_type": "stream",
     "text": [
      "[ Info: Nullspace of dimensions (5, 3) computed from Macaulay matrix of dimension (2, 5) in 4.5555e-5 seconds.\n"
     ]
    },
    {
     "output_type": "execute_result",
     "data": {
      "text/plain": "MultivariateMoments.MacaulayNullspace{Float64, LinearAlgebra.Adjoint{Float64, Matrix{Float64}}, MultivariateBases.MonomialBasis{DynamicPolynomials.Monomial{DynamicPolynomials.Commutative{DynamicPolynomials.CreationOrder}, MultivariatePolynomials.Graded{MultivariatePolynomials.LexOrder}}, DynamicPolynomials.MonomialVector{DynamicPolynomials.Commutative{DynamicPolynomials.CreationOrder}, MultivariatePolynomials.Graded{MultivariatePolynomials.LexOrder}}}}([-0.5648877062932673 -0.5061871608167463 -0.08949732306804505; 0.35309169447067507 -0.5869837085383489 -0.3054118223094746; … ; -0.005487708235674751 0.6097339283112615 -0.15500888702836046; 0.048969435176441645 -0.13767209715388368 0.9351372741031582], MonomialBasis([1, x, x², x³, x⁴]), 5.438959822042073e-16)"
     },
     "metadata": {},
     "execution_count": 6
    }
   ],
   "cell_type": "code",
   "source": [
    "Z = nullspace(macaulay([q], 4))"
   ],
   "metadata": {},
   "execution_count": 6
  },
  {
   "cell_type": "markdown",
   "source": [
    "The PSD hankel matrix we find is:"
   ],
   "metadata": {}
  },
  {
   "outputs": [
    {
     "name": "stdout",
     "output_type": "stream",
     "text": [
      "------------------------------------------------------------------\n",
      "\t       SCS v3.2.6 - Splitting Conic Solver\n",
      "\t(c) Brendan O'Donoghue, Stanford University, 2012\n",
      "------------------------------------------------------------------\n",
      "problem:  variables n: 3, constraints m: 7\n",
      "cones: \t  z: primal zero / dual free vars: 1\n",
      "\t  s: psd vars: 6, ssize: 1\n",
      "settings: eps_abs: 1.0e-04, eps_rel: 1.0e-04, eps_infeas: 1.0e-07\n",
      "\t  alpha: 1.50, scale: 1.00e-01, adaptive_scale: 1\n",
      "\t  max_iters: 100000, normalize: 1, rho_x: 1.00e-06\n",
      "\t  acceleration_lookback: 10, acceleration_interval: 10\n",
      "\t  compiled with openmp parallelization enabled\n",
      "lin-sys:  sparse-direct-amd-qdldl\n",
      "\t  nnz(A): 21, nnz(P): 0\n",
      "------------------------------------------------------------------\n",
      " iter | pri res | dua res |   gap   |   obj   |  scale  | time (s)\n",
      "------------------------------------------------------------------\n",
      "     0| 1.31e+00  2.08e-01  5.54e-01  2.77e-01  1.00e-01  1.58e-04 \n",
      "   250| 5.50e-01  1.41e-05  2.91e-04  1.45e-04  1.48e-03  8.72e-04 \n",
      "   500| 2.94e-01  4.20e-06  8.43e-04 -4.22e-04  3.21e-05  1.60e-03 \n",
      "   750| 9.99e-01  9.44e-10  1.28e-02 -6.38e-03  1.00e-06  2.28e-03 \n",
      "  1000| 9.99e-01  3.26e-10  4.36e-03 -2.18e-03  1.00e-06  2.91e-03 \n",
      "  1250| 9.99e-01  1.57e-10  2.09e-03 -1.05e-03  1.00e-06  3.55e-03 \n",
      "  1500| 9.99e-01  6.78e-11  9.05e-04 -4.53e-04  1.00e-06  4.19e-03 \n",
      "  1750| 9.50e-01  2.42e-07  2.28e-04 -1.14e-04  1.00e-06  4.86e-03 \n",
      "  2000| 9.99e-01  1.46e-06  1.13e-02 -5.65e-03  1.00e-06  5.62e-03 \n",
      "  2250| 9.99e-01  3.47e-10  4.64e-03 -2.32e-03  1.00e-06  6.25e-03 \n",
      "  2500| 9.99e-01  2.02e-10  2.70e-03 -1.35e-03  1.00e-06  6.88e-03 \n",
      "  2750| 9.99e-01  1.02e-10  1.36e-03 -6.82e-04  1.00e-06  7.53e-03 \n",
      "  3000| 9.99e-01  2.46e-11  3.28e-04 -1.64e-04  1.00e-06  8.15e-03 \n",
      "  3250| 9.52e-01  2.55e-07  8.35e-05 -4.18e-05  1.00e-06  8.84e-03 \n",
      "  3500| 9.99e-01  8.12e-08  7.19e-04 -3.59e-04  1.00e-06  9.57e-03 \n",
      "  3750| 9.99e-01  2.00e-07  1.00e-04 -5.00e-05  1.00e-06  1.02e-02 \n",
      "  4000| 8.19e-01  9.56e-08  8.02e-05 -4.01e-05  1.00e-06  1.10e-02 \n",
      "  4250| 6.58e-02  1.27e-09  6.59e-05 -3.29e-05  1.00e-06  1.17e-02 \n",
      "  4500| 6.80e-02  7.78e-09  6.13e-05 -3.07e-05  1.00e-06  1.24e-02 \n",
      "  4750| 6.74e-02  3.35e-09  5.80e-05 -2.90e-05  1.00e-06  1.31e-02 \n",
      "  5000| 3.99e-01  1.87e-07  7.30e-06 -3.65e-06  1.00e-06  1.38e-02 \n",
      "  5250| 5.99e-02  6.10e-09  5.03e-05 -2.52e-05  1.00e-06  1.45e-02 \n",
      "  5500| 6.17e-02  2.44e-09  4.73e-05 -2.37e-05  1.00e-06  1.52e-02 \n",
      "  5750| 5.79e-02  5.26e-09  4.47e-05 -2.24e-05  1.00e-06  1.60e-02 \n",
      "  6000| 5.37e-02  9.07e-10  4.15e-05 -2.08e-05  1.00e-06  1.67e-02 \n",
      "  6250| 5.48e-02  5.52e-09  3.85e-05 -1.93e-05  1.00e-06  1.74e-02 \n",
      "  6500| 5.43e-02  1.77e-09  3.65e-05 -1.82e-05  1.00e-06  1.81e-02 \n",
      "  6750| 4.98e-02  3.34e-09  3.42e-05 -1.71e-05  1.00e-06  1.88e-02 \n",
      "  7000| 4.81e-02  3.60e-09  3.16e-05 -1.58e-05  1.00e-06  1.95e-02 \n",
      "  7250| 4.92e-02  2.86e-09  2.96e-05 -1.48e-05  1.00e-06  2.02e-02 \n",
      "  7500| 4.70e-02  3.27e-09  2.80e-05 -1.40e-05  1.00e-06  2.09e-02 \n",
      "  7750| 1.68e-01  9.05e-08  3.27e-06 -1.64e-06  1.00e-06  2.16e-02 \n",
      "  8000| 4.32e-02  3.96e-09  2.41e-05 -1.20e-05  1.00e-06  2.23e-02 \n",
      "  8250| 4.35e-02  4.78e-10  2.27e-05 -1.13e-05  1.00e-06  2.30e-02 \n",
      "  8500| 4.07e-02  2.99e-09  2.14e-05 -1.07e-05  1.00e-06  2.37e-02 \n",
      "  8750| 3.83e-02  8.99e-10  1.98e-05 -9.89e-06  1.00e-06  2.45e-02 \n",
      "  9000| 6.02e-01  6.51e-07  3.71e-05  1.86e-05  1.00e-06  2.52e-02 \n",
      "  9250| 9.41e-03  1.09e-08  3.34e-07  1.67e-07  1.00e-06  2.60e-02 \n",
      "  9500| 9.62e-03  4.23e-10  1.21e-06 -6.07e-07  1.00e-06  2.67e-02 \n",
      "  9675| 3.95e-03  2.60e-10  1.92e-07 -9.58e-08  1.00e-06  2.73e-02 \n",
      "------------------------------------------------------------------\n",
      "status:  solved\n",
      "timings: total: 2.73e-02s = setup: 5.20e-05s + solve: 2.72e-02s\n",
      "\t lin-sys: 2.83e-03s, cones: 2.03e-02s, accel: 1.07e-03s\n",
      "------------------------------------------------------------------\n",
      "objective = -0.000000\n",
      "------------------------------------------------------------------\n",
      "[ Info: Terminated with OPTIMAL (solved) in 0.027284448000000003 seconds.\n"
     ]
    },
    {
     "output_type": "execute_result",
     "data": {
      "text/plain": "MomentMatrix with row/column basis:\n MonomialBasis([1, x, x^2])\nAnd entries in a 3×3 MultivariateMoments.SymMatrix{Float64}:\n  1.0000000181608577   -2.6527137858823586    7.054717498400912\n -2.6527137858823586    7.054717498400912   -18.762148819005894\n  7.054717498400912   -18.762148819005894    49.88444270817741"
     },
     "metadata": {},
     "execution_count": 7
    }
   ],
   "cell_type": "code",
   "source": [
    "M = moment_matrix(Z, solver, 2)"
   ],
   "metadata": {},
   "execution_count": 7
  },
  {
   "cell_type": "markdown",
   "source": [
    "From which we get:"
   ],
   "metadata": {}
  },
  {
   "outputs": [],
   "cell_type": "code",
   "source": [
    "atomic_measure(M, 1e-6)"
   ],
   "metadata": {},
   "execution_count": 8
  },
  {
   "cell_type": "markdown",
   "source": [
    "---\n",
    "\n",
    "*This notebook was generated using [Literate.jl](https://github.com/fredrikekre/Literate.jl).*"
   ],
   "metadata": {}
  }
 ],
 "nbformat_minor": 3,
 "metadata": {
  "language_info": {
   "file_extension": ".jl",
   "mimetype": "application/julia",
   "name": "julia",
   "version": "1.10.4"
  },
  "kernelspec": {
   "name": "julia-1.10",
   "display_name": "Julia 1.10.4",
   "language": "julia"
  }
 },
 "nbformat": 4
}
