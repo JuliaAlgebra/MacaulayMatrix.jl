{
 "cells": [
  {
   "cell_type": "markdown",
   "source": [
    "# Univariate"
   ],
   "metadata": {}
  },
  {
   "outputs": [],
   "cell_type": "code",
   "source": [
    "using LinearAlgebra\n",
    "using DynamicPolynomials\n",
    "using MultivariateMoments\n",
    "using JuMP\n",
    "using MacaulayMatrix"
   ],
   "metadata": {},
   "execution_count": 1
  },
  {
   "cell_type": "markdown",
   "source": [
    "Consider the following example:"
   ],
   "metadata": {}
  },
  {
   "outputs": [
    {
     "output_type": "execute_result",
     "data": {
      "text/plain": "24 - 12x + 24x² + 12x³",
      "text/latex": "$$ 24 - 12x + 24x^{2} + 12x^{3} $$"
     },
     "metadata": {},
     "execution_count": 2
    }
   ],
   "cell_type": "code",
   "source": [
    "@polyvar x\n",
    "p = 3x^4 + 8x^3 - 6x^2 + 24x + 1\n",
    "q = differentiate(p, x)"
   ],
   "metadata": {},
   "execution_count": 2
  },
  {
   "cell_type": "markdown",
   "source": [
    "Let's solve that system:"
   ],
   "metadata": {}
  },
  {
   "outputs": [
    {
     "name": "stdout",
     "output_type": "stream",
     "text": [
      "[ Info: Added 1 rows to complete columns up to degree 3\n",
      "[ Info: Nullspace of dimensions (4, 3) computed from Macaulay matrix of dimension (1, 4) in 5.4472e-5 seconds.\n",
      "[ Info: Found 1 real solution\n"
     ]
    }
   ],
   "cell_type": "code",
   "source": [
    "sols = solve_system([q], column_maxdegree = 4)\n",
    "nothing # hide"
   ],
   "metadata": {},
   "execution_count": 3
  },
  {
   "cell_type": "markdown",
   "source": [
    "The real roots are:"
   ],
   "metadata": {}
  },
  {
   "outputs": [
    {
     "output_type": "execute_result",
     "data": {
      "text/plain": "1-element Vector{Vector{Float64}}:\n [-2.658967081916994]"
     },
     "metadata": {},
     "execution_count": 4
    }
   ],
   "cell_type": "code",
   "source": [
    "sols"
   ],
   "metadata": {},
   "execution_count": 4
  },
  {
   "cell_type": "markdown",
   "source": [
    "With PSD Hankel matrix trick no complex root!"
   ],
   "metadata": {}
  },
  {
   "outputs": [
    {
     "name": "stdout",
     "output_type": "stream",
     "text": [
      "[ Info: Nullspace of dimensions (5, 3) computed from Macaulay matrix of dimension (2, 5) in 4.822e-5 seconds.\n",
      "------------------------------------------------------------------\n",
      "\t       SCS v3.2.6 - Splitting Conic Solver\n",
      "\t(c) Brendan O'Donoghue, Stanford University, 2012\n",
      "------------------------------------------------------------------\n",
      "problem:  variables n: 3, constraints m: 7\n",
      "cones: \t  z: primal zero / dual free vars: 1\n",
      "\t  s: psd vars: 6, ssize: 1\n",
      "settings: eps_abs: 1.0e-04, eps_rel: 1.0e-04, eps_infeas: 1.0e-07\n",
      "\t  alpha: 1.50, scale: 1.00e-01, adaptive_scale: 1\n",
      "\t  max_iters: 100000, normalize: 1, rho_x: 1.00e-06\n",
      "\t  acceleration_lookback: 10, acceleration_interval: 10\n",
      "\t  compiled with openmp parallelization enabled\n",
      "lin-sys:  sparse-direct-amd-qdldl\n",
      "\t  nnz(A): 21, nnz(P): 0\n",
      "------------------------------------------------------------------\n",
      " iter | pri res | dua res |   gap   |   obj   |  scale  | time (s)\n",
      "------------------------------------------------------------------\n",
      "     0| 9.98e-01  8.27e-02  1.02e-01  5.08e-02  1.00e-01  1.35e-04 \n",
      "   100| 3.22e-05  8.70e-06  1.43e-05  7.17e-06  1.00e-01  4.28e-04 \n",
      "------------------------------------------------------------------\n",
      "status:  solved\n",
      "timings: total: 4.29e-04s = setup: 4.75e-05s + solve: 3.81e-04s\n",
      "\t lin-sys: 2.93e-05s, cones: 2.42e-04s, accel: 5.38e-06s\n",
      "------------------------------------------------------------------\n",
      "objective = 0.000007\n",
      "------------------------------------------------------------------\n",
      "[ Info: Terminated with OPTIMAL (solved) in 0.00042873499999999997 seconds.\n"
     ]
    },
    {
     "output_type": "execute_result",
     "data": {
      "text/plain": "1-element Vector{Vector{Float64}}:\n [-2.659202319196865]"
     },
     "metadata": {},
     "execution_count": 5
    }
   ],
   "cell_type": "code",
   "source": [
    "import SCS\n",
    "solver = SCS.Optimizer\n",
    "psd_hankel([q], solver, 4)"
   ],
   "metadata": {},
   "execution_count": 5
  },
  {
   "cell_type": "markdown",
   "source": [
    "What happened there ?\n",
    "First, we computed the MacaulayMatrix matrix nullspace"
   ],
   "metadata": {}
  },
  {
   "outputs": [
    {
     "name": "stdout",
     "output_type": "stream",
     "text": [
      "[ Info: Nullspace of dimensions (5, 3) computed from Macaulay matrix of dimension (2, 5) in 4.9724e-5 seconds.\n"
     ]
    },
    {
     "output_type": "execute_result",
     "data": {
      "text/plain": "MultivariateMoments.MacaulayNullspace{Float64, LinearAlgebra.Adjoint{Float64, Matrix{Float64}}, MultivariateBases.MonomialBasis{DynamicPolynomials.Monomial{DynamicPolynomials.Commutative{DynamicPolynomials.CreationOrder}, MultivariatePolynomials.Graded{MultivariatePolynomials.LexOrder}}, DynamicPolynomials.MonomialVector{DynamicPolynomials.Commutative{DynamicPolynomials.CreationOrder}, MultivariatePolynomials.Graded{MultivariatePolynomials.LexOrder}}}}([-0.5648877062932673 -0.5061871608167463 -0.08949732306804505; 0.35309169447067507 -0.5869837085383489 -0.3054118223094746; … ; -0.005487708235674751 0.6097339283112615 -0.15500888702836046; 0.048969435176441645 -0.13767209715388368 0.9351372741031582], MonomialBasis([1, x, x², x³, x⁴]), 5.438959822042073e-16)"
     },
     "metadata": {},
     "execution_count": 6
    }
   ],
   "cell_type": "code",
   "source": [
    "Z = nullspace(macaulay([q], 4))"
   ],
   "metadata": {},
   "execution_count": 6
  },
  {
   "cell_type": "markdown",
   "source": [
    "The PSD hankel matrix we find is:"
   ],
   "metadata": {}
  },
  {
   "outputs": [
    {
     "name": "stdout",
     "output_type": "stream",
     "text": [
      "------------------------------------------------------------------\n",
      "\t       SCS v3.2.6 - Splitting Conic Solver\n",
      "\t(c) Brendan O'Donoghue, Stanford University, 2012\n",
      "------------------------------------------------------------------\n",
      "problem:  variables n: 3, constraints m: 7\n",
      "cones: \t  z: primal zero / dual free vars: 1\n",
      "\t  s: psd vars: 6, ssize: 1\n",
      "settings: eps_abs: 1.0e-04, eps_rel: 1.0e-04, eps_infeas: 1.0e-07\n",
      "\t  alpha: 1.50, scale: 1.00e-01, adaptive_scale: 1\n",
      "\t  max_iters: 100000, normalize: 1, rho_x: 1.00e-06\n",
      "\t  acceleration_lookback: 10, acceleration_interval: 10\n",
      "\t  compiled with openmp parallelization enabled\n",
      "lin-sys:  sparse-direct-amd-qdldl\n",
      "\t  nnz(A): 21, nnz(P): 0\n",
      "------------------------------------------------------------------\n",
      " iter | pri res | dua res |   gap   |   obj   |  scale  | time (s)\n",
      "------------------------------------------------------------------\n",
      "     0| 9.98e-01  8.27e-02  1.02e-01  5.08e-02  1.00e-01  1.42e-04 \n",
      "   100| 3.22e-05  8.70e-06  1.43e-05  7.17e-06  1.00e-01  4.35e-04 \n",
      "------------------------------------------------------------------\n",
      "status:  solved\n",
      "timings: total: 4.36e-04s = setup: 4.96e-05s + solve: 3.87e-04s\n",
      "\t lin-sys: 2.98e-05s, cones: 2.43e-04s, accel: 5.38e-06s\n",
      "------------------------------------------------------------------\n",
      "objective = 0.000007\n",
      "------------------------------------------------------------------\n",
      "[ Info: Terminated with OPTIMAL (solved) in 0.00043613800000000003 seconds.\n"
     ]
    },
    {
     "output_type": "execute_result",
     "data": {
      "text/plain": "MomentMatrix with row/column basis:\n MonomialBasis([1, x, x^2])\nAnd entries in a 3×3 MultivariateMoments.SymMatrix{Float64}:\n  0.025772049100527494  -0.06843215873610958   0.18198791566088898\n -0.06843215873610958    0.18198791566088898  -0.4839520882589425\n  0.18198791566088898   -0.4839520882589425    1.286756409650993"
     },
     "metadata": {},
     "execution_count": 7
    }
   ],
   "cell_type": "code",
   "source": [
    "M = moment_matrix(Z, solver, 2)"
   ],
   "metadata": {},
   "execution_count": 7
  },
  {
   "cell_type": "markdown",
   "source": [
    "From which we get:"
   ],
   "metadata": {}
  },
  {
   "outputs": [],
   "cell_type": "code",
   "source": [
    "atomic_measure(M, 1e-6)"
   ],
   "metadata": {},
   "execution_count": 8
  },
  {
   "cell_type": "markdown",
   "source": [
    "---\n",
    "\n",
    "*This notebook was generated using [Literate.jl](https://github.com/fredrikekre/Literate.jl).*"
   ],
   "metadata": {}
  }
 ],
 "nbformat_minor": 3,
 "metadata": {
  "language_info": {
   "file_extension": ".jl",
   "mimetype": "application/julia",
   "name": "julia",
   "version": "1.10.4"
  },
  "kernelspec": {
   "name": "julia-1.10",
   "display_name": "Julia 1.10.4",
   "language": "julia"
  }
 },
 "nbformat": 4
}
